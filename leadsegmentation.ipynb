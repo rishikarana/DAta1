{
 "cells": [
  {
   "cell_type": "code",
   "execution_count": 1,
   "metadata": {
    "collapsed": true
   },
   "outputs": [],
   "source": [
    "import pandas as pd\n",
    "import numpy as np"
   ]
  },
  {
   "cell_type": "code",
   "execution_count": 2,
   "metadata": {
    "collapsed": false
   },
   "outputs": [],
   "source": [
    "#Read files:\n",
    "train= pd.read_csv('train1.csv')\n",
    "test= pd.read_csv('test.csv')"
   ]
  },
  {
   "cell_type": "code",
   "execution_count": 3,
   "metadata": {
    "collapsed": false
   },
   "outputs": [
    {
     "name": "stdout",
     "output_type": "stream",
     "text": [
      "(69713, 23) (30037, 22) (99750, 23)\n"
     ]
    }
   ],
   "source": [
    "#concatinating train and test files\n",
    "train['source']='train'\n",
    "test['source']='test'\n",
    "data = pd.concat([train, test],ignore_index=True)\n",
    "print (train.shape, test.shape, data.shape)"
   ]
  },
  {
   "cell_type": "code",
   "execution_count": 4,
   "metadata": {
    "collapsed": false
   },
   "outputs": [
    {
     "data": {
      "text/plain": [
       "'ID                                        0\n",
       "Approved                               30037\n",
       "City_Category                           1128\n",
       "City_Code                               1128\n",
       "Contacted                                  0\n",
       "Customer_Existing_Primary_Bank_Code    13428\n",
       "DOB                                       18\n",
       "EMI                                    67822\n",
       "Employer_Category1                      5623\n",
       "Employer_Category2                      5993\n",
       "Employer_Code                           5623\n",
       "Existing_EMI                              83\n",
       "Gender                                     0\n",
       "Interest_Rate                          67822\n",
       "Lead_Creation_Date                         0\n",
       "Loan_Amount                            39580\n",
       "Loan_Period                            39580\n",
       "Monthly_Income                             0\n",
       "Primary_Bank_Type                      13428\n",
       "Source                                     0\n",
       "Source_Category                            0\n",
       "Var1                                       0\n",
       "source                                     0\n",
       "dtype: int64"
      ]
     },
     "execution_count": 4,
     "metadata": {},
     "output_type": "execute_result"
    }
   ],
   "source": [
    "#data exploration\n",
    "#checking missing values in the data set\n",
    "data.apply(lambda x: sum(x.isnull()),axis=0)\n",
    "\n",
    "#the ........columns have so and so missing values so we will impute it lATER"
   ]
  },
  {
   "cell_type": "code",
   "execution_count": 5,
   "metadata": {
    "collapsed": false
   },
   "outputs": [
    {
     "data": {
      "text/html": [
       "<div>\n",
       "<table border=\"1\" class=\"dataframe\">\n",
       "  <thead>\n",
       "    <tr style=\"text-align: right;\">\n",
       "      <th></th>\n",
       "      <th>Approved</th>\n",
       "      <th>EMI</th>\n",
       "      <th>Employer_Category2</th>\n",
       "      <th>Existing_EMI</th>\n",
       "      <th>Interest_Rate</th>\n",
       "      <th>Loan_Amount</th>\n",
       "      <th>Loan_Period</th>\n",
       "      <th>Monthly_Income</th>\n",
       "      <th>Var1</th>\n",
       "    </tr>\n",
       "  </thead>\n",
       "  <tbody>\n",
       "    <tr>\n",
       "      <th>count</th>\n",
       "      <td>69713.000000</td>\n",
       "      <td>31928.000000</td>\n",
       "      <td>93757.000000</td>\n",
       "      <td>99667.000000</td>\n",
       "      <td>31928.000000</td>\n",
       "      <td>60170.000000</td>\n",
       "      <td>60170.000000</td>\n",
       "      <td>9.975000e+04</td>\n",
       "      <td>99750.000000</td>\n",
       "    </tr>\n",
       "    <tr>\n",
       "      <th>mean</th>\n",
       "      <td>0.014631</td>\n",
       "      <td>1099.485718</td>\n",
       "      <td>3.722623</td>\n",
       "      <td>357.310193</td>\n",
       "      <td>19.233814</td>\n",
       "      <td>39445.986372</td>\n",
       "      <td>3.894399</td>\n",
       "      <td>5.126893e+03</td>\n",
       "      <td>3.952622</td>\n",
       "    </tr>\n",
       "    <tr>\n",
       "      <th>std</th>\n",
       "      <td>0.120073</td>\n",
       "      <td>745.125218</td>\n",
       "      <td>0.803623</td>\n",
       "      <td>1990.517471</td>\n",
       "      <td>5.857761</td>\n",
       "      <td>30667.188339</td>\n",
       "      <td>1.162487</td>\n",
       "      <td>1.466628e+05</td>\n",
       "      <td>3.819744</td>\n",
       "    </tr>\n",
       "    <tr>\n",
       "      <th>min</th>\n",
       "      <td>0.000000</td>\n",
       "      <td>118.000000</td>\n",
       "      <td>1.000000</td>\n",
       "      <td>0.000000</td>\n",
       "      <td>11.990000</td>\n",
       "      <td>5000.000000</td>\n",
       "      <td>1.000000</td>\n",
       "      <td>0.000000e+00</td>\n",
       "      <td>0.000000</td>\n",
       "    </tr>\n",
       "    <tr>\n",
       "      <th>25%</th>\n",
       "      <td>0.000000</td>\n",
       "      <td>642.750000</td>\n",
       "      <td>4.000000</td>\n",
       "      <td>0.000000</td>\n",
       "      <td>15.250000</td>\n",
       "      <td>20000.000000</td>\n",
       "      <td>3.000000</td>\n",
       "      <td>1.650000e+03</td>\n",
       "      <td>0.000000</td>\n",
       "    </tr>\n",
       "    <tr>\n",
       "      <th>50%</th>\n",
       "      <td>0.000000</td>\n",
       "      <td>943.000000</td>\n",
       "      <td>4.000000</td>\n",
       "      <td>0.000000</td>\n",
       "      <td>18.000000</td>\n",
       "      <td>30000.000000</td>\n",
       "      <td>4.000000</td>\n",
       "      <td>2.500000e+03</td>\n",
       "      <td>2.000000</td>\n",
       "    </tr>\n",
       "    <tr>\n",
       "      <th>75%</th>\n",
       "      <td>0.000000</td>\n",
       "      <td>1293.000000</td>\n",
       "      <td>4.000000</td>\n",
       "      <td>350.000000</td>\n",
       "      <td>20.000000</td>\n",
       "      <td>50000.000000</td>\n",
       "      <td>5.000000</td>\n",
       "      <td>4.000000e+03</td>\n",
       "      <td>7.000000</td>\n",
       "    </tr>\n",
       "    <tr>\n",
       "      <th>max</th>\n",
       "      <td>1.000000</td>\n",
       "      <td>13556.000000</td>\n",
       "      <td>4.000000</td>\n",
       "      <td>545436.500000</td>\n",
       "      <td>37.000000</td>\n",
       "      <td>300000.000000</td>\n",
       "      <td>6.000000</td>\n",
       "      <td>3.838384e+07</td>\n",
       "      <td>10.000000</td>\n",
       "    </tr>\n",
       "  </tbody>\n",
       "</table>\n",
       "</div>"
      ],
      "text/plain": [
       "           Approved           EMI  Employer_Category2   Existing_EMI  \\\n",
       "count  69713.000000  31928.000000        93757.000000   99667.000000   \n",
       "mean       0.014631   1099.485718            3.722623     357.310193   \n",
       "std        0.120073    745.125218            0.803623    1990.517471   \n",
       "min        0.000000    118.000000            1.000000       0.000000   \n",
       "25%        0.000000    642.750000            4.000000       0.000000   \n",
       "50%        0.000000    943.000000            4.000000       0.000000   \n",
       "75%        0.000000   1293.000000            4.000000     350.000000   \n",
       "max        1.000000  13556.000000            4.000000  545436.500000   \n",
       "\n",
       "       Interest_Rate    Loan_Amount   Loan_Period  Monthly_Income  \\\n",
       "count   31928.000000   60170.000000  60170.000000    9.975000e+04   \n",
       "mean       19.233814   39445.986372      3.894399    5.126893e+03   \n",
       "std         5.857761   30667.188339      1.162487    1.466628e+05   \n",
       "min        11.990000    5000.000000      1.000000    0.000000e+00   \n",
       "25%        15.250000   20000.000000      3.000000    1.650000e+03   \n",
       "50%        18.000000   30000.000000      4.000000    2.500000e+03   \n",
       "75%        20.000000   50000.000000      5.000000    4.000000e+03   \n",
       "max        37.000000  300000.000000      6.000000    3.838384e+07   \n",
       "\n",
       "               Var1  \n",
       "count  99750.000000  \n",
       "mean       3.952622  \n",
       "std        3.819744  \n",
       "min        0.000000  \n",
       "25%        0.000000  \n",
       "50%        2.000000  \n",
       "75%        7.000000  \n",
       "max       10.000000  "
      ]
     },
     "execution_count": 5,
     "metadata": {},
     "output_type": "execute_result"
    }
   ],
   "source": [
    "data.describe()"
   ]
  },
  {
   "cell_type": "code",
   "execution_count": 6,
   "metadata": {
    "collapsed": true
   },
   "outputs": [],
   "source": [
    "#monthly income of some employees is zero.... means they are employed, or the data is incorrect\n",
    "#comparing mean and meian of the existing emi, monthlyincome we cocnclude that they are skewed\n",
    "#right and left skewness\n",
    "#loan period ranges from 1- 6 years\n",
    "#"
   ]
  },
  {
   "cell_type": "code",
   "execution_count": 7,
   "metadata": {
    "collapsed": false
   },
   "outputs": [
    {
     "data": {
      "text/plain": [
       "'ID                                    99750\n",
       "Approved                                   3\n",
       "City_Category                              4\n",
       "City_Code                                705\n",
       "Contacted                                  2\n",
       "Customer_Existing_Primary_Bank_Code       58\n",
       "DOB                                    11673\n",
       "EMI                                     2413\n",
       "Employer_Category1                         4\n",
       "Employer_Category2                         5\n",
       "Employer_Code                          48282\n",
       "Existing_EMI                            4094\n",
       "Gender                                     2\n",
       "Interest_Rate                             73\n",
       "Lead_Creation_Date                        92\n",
       "Loan_Amount                              207\n",
       "Loan_Period                                7\n",
       "Monthly_Income                          6362\n",
       "Primary_Bank_Type                          3\n",
       "Source                                    33\n",
       "Source_Category                            7\n",
       "Var1                                       5\n",
       "source                                     2\n",
       "dtype: int64"
      ]
     },
     "execution_count": 7,
     "metadata": {},
     "output_type": "execute_result"
    }
   ],
   "source": [
    "data.apply(lambda x: len(x.unique()))"
   ]
  },
  {
   "cell_type": "code",
   "execution_count": 8,
   "metadata": {
    "collapsed": false
   },
   "outputs": [
    {
     "data": {
      "text/plain": [
       "'ID                                     object\n",
       "Approved                               float64\n",
       "City_Category                           object\n",
       "City_Code                               object\n",
       "Contacted                               object\n",
       "Customer_Existing_Primary_Bank_Code     object\n",
       "DOB                                     object\n",
       "EMI                                    float64\n",
       "Employer_Category1                      object\n",
       "Employer_Category2                     float64\n",
       "Employer_Code                           object\n",
       "Existing_EMI                           float64\n",
       "Gender                                  object\n",
       "Interest_Rate                          float64\n",
       "Lead_Creation_Date                      object\n",
       "Loan_Amount                            float64\n",
       "Loan_Period                            float64\n",
       "Monthly_Income                         float64\n",
       "Primary_Bank_Type                       object\n",
       "Source                                  object\n",
       "Source_Category                         object\n",
       "Var1                                     int64\n",
       "source                                  object\n",
       "dtype: object"
      ]
     },
     "execution_count": 8,
     "metadata": {},
     "output_type": "execute_result"
    }
   ],
   "source": [
    "data.dtypes"
   ]
  },
  {
   "cell_type": "code",
   "execution_count": 15,
   "metadata": {
    "collapsed": false
   },
   "outputs": [
    {
     "data": {
      "text/plain": [
       "'ID                                    99750\n",
       "Approved                                   3\n",
       "City_Category                              4\n",
       "City_Code                                705\n",
       "Contacted                                  2\n",
       "Customer_Existing_Primary_Bank_Code       58\n",
       "DOB                                    11673\n",
       "EMI                                     2413\n",
       "Employer_Category1                         4\n",
       "Employer_Category2                         5\n",
       "Employer_Code                          48282\n",
       "Existing_EMI                            4094\n",
       "Gender                                     2\n",
       "Interest_Rate                             73\n",
       "Lead_Creation_Date                        92\n",
       "Loan_Amount                              207\n",
       "Loan_Period                                7\n",
       "Monthly_Income                          6362\n",
       "Primary_Bank_Type                          3\n",
       "Source                                    33\n",
       "Source_Category                            7\n",
       "Var1                                       5\n",
       "source                                     2\n",
       "dtype: int64"
      ]
     },
     "execution_count": 15,
     "metadata": {},
     "output_type": "execute_result"
    }
   ],
   "source": [
    "#unique vals\n",
    "data.apply(lambda x: len(x.unique()))"
   ]
  },
  {
   "cell_type": "code",
   "execution_count": 9,
   "metadata": {
    "collapsed": true
   },
   "outputs": [],
   "source": [
    "#checking the distribution of categorical columns\n",
    "categorical_cols=['City_Category','City_Code','Contacted','Customer_Existing_Primary_Bank_Code','Employer_Category1','Employer_Category2','Employer_Code','Gender','Primary_Bank_Type','Source','Source_Category']"
   ]
  },
  {
   "cell_type": "code",
   "execution_count": 10,
   "metadata": {
    "collapsed": false
   },
   "outputs": [
    {
     "name": "stdout",
     "output_type": "stream",
     "text": [
      "A    71383\n",
      "C    16761\n",
      "B    10478\n",
      "Name: City_Category, dtype: int64\n",
      "C10001    14313\n",
      "C10002    12462\n",
      "C10003    12350\n",
      "C10004     8341\n",
      "C10005     7952\n",
      "C10006     6001\n",
      "C10007     3424\n",
      "C10008     2044\n",
      "C10009     1510\n",
      "C10010     1353\n",
      "C10011     1314\n",
      "C10012     1042\n",
      "C10013     1003\n",
      "C10014      925\n",
      "C10015      847\n",
      "C10016      838\n",
      "C10018      699\n",
      "C10017      695\n",
      "C10019      647\n",
      "C10020      636\n",
      "C10021      593\n",
      "C10022      552\n",
      "C10024      530\n",
      "C10023      526\n",
      "C10025      432\n",
      "C10026      417\n",
      "C10027      403\n",
      "C10028      362\n",
      "C10029      347\n",
      "C10030      328\n",
      "          ...  \n",
      "C10693        1\n",
      "C10685        1\n",
      "C10717        1\n",
      "C10709        1\n",
      "C10698        1\n",
      "C10682        1\n",
      "C10708        1\n",
      "C10586        1\n",
      "C10621        1\n",
      "C10720        1\n",
      "C10666        1\n",
      "C10707        1\n",
      "C10687        1\n",
      "C10700        1\n",
      "C10634        1\n",
      "C10673        1\n",
      "C10624        1\n",
      "C10668        1\n",
      "C10694        1\n",
      "C10714        1\n",
      "C10649        1\n",
      "C10574        1\n",
      "C10531        1\n",
      "C10713        1\n",
      "C10669        1\n",
      "C10568        1\n",
      "C10690        1\n",
      "C10681        1\n",
      "C10590        1\n",
      "C10715        1\n",
      "Name: City_Code, dtype: int64\n",
      "Y    64772\n",
      "N    34978\n",
      "Name: Contacted, dtype: int64\n",
      "B001    20155\n",
      "B002    15545\n",
      "B003    13682\n",
      "B004    10103\n",
      "B005     2730\n",
      "B006     2357\n",
      "B007     1771\n",
      "B008     1390\n",
      "B009     1372\n",
      "B010     1355\n",
      "B011     1114\n",
      "B013     1101\n",
      "B012     1099\n",
      "B014      884\n",
      "B015      822\n",
      "B016      754\n",
      "B017      740\n",
      "B018      688\n",
      "B020      612\n",
      "B019      608\n",
      "B021      569\n",
      "B022      562\n",
      "B023      521\n",
      "B024      501\n",
      "B025      468\n",
      "B026      387\n",
      "B027      364\n",
      "B028      345\n",
      "B029      310\n",
      "B030      305\n",
      "B031      276\n",
      "B033      276\n",
      "B032      270\n",
      "B034      269\n",
      "B035      227\n",
      "B036      218\n",
      "B038      207\n",
      "B037      204\n",
      "B039      199\n",
      "B040      183\n",
      "B041      138\n",
      "B042      119\n",
      "B043       96\n",
      "B044       82\n",
      "B046       63\n",
      "B045       62\n",
      "B047       55\n",
      "B048       55\n",
      "B049       27\n",
      "B050       24\n",
      "B051       15\n",
      "B052       13\n",
      "B054       10\n",
      "B053        7\n",
      "B055        7\n",
      "B056        4\n",
      "B057        2\n",
      "Name: Customer_Existing_Primary_Bank_Code, dtype: int64\n",
      "A    47805\n",
      "B    25800\n",
      "C    20522\n",
      "Name: Employer_Category1, dtype: int64\n",
      "4.0    82588\n",
      "1.0     6041\n",
      "2.0     2755\n",
      "3.0     2373\n",
      "Name: Employer_Category2, dtype: int64\n",
      "COM0000002    622\n",
      "COM0000003    448\n",
      "COM0000004    392\n",
      "COM0000005    324\n",
      "COM0000007    267\n",
      "COM0000006    259\n",
      "COM0000009    209\n",
      "COM0000010    198\n",
      "COM0000013    196\n",
      "COM0000011    191\n",
      "COM0000008    190\n",
      "COM0000012    179\n",
      "COM0000014    166\n",
      "COM0000015    163\n",
      "COM0000018    161\n",
      "COM0000016    158\n",
      "COM0000017    156\n",
      "COM0000019    155\n",
      "COM0000021    153\n",
      "COM0000020    146\n",
      "COM0000023    132\n",
      "COM0000024    132\n",
      "COM0000022    128\n",
      "COM0000026    125\n",
      "COM0000025    122\n",
      "COM0000027    121\n",
      "COM0000028    119\n",
      "COM0000030    114\n",
      "COM0000031    114\n",
      "COM0000029    112\n",
      "             ... \n",
      "COM0044476      1\n",
      "COM0048133      1\n",
      "COM0019713      1\n",
      "COM0028057      1\n",
      "COM0032262      1\n",
      "COM0045669      1\n",
      "COM0025423      1\n",
      "COM0009100      1\n",
      "COM0053557      1\n",
      "COM0019753      1\n",
      "COM0024654      1\n",
      "COM0032295      1\n",
      "COM0032581      1\n",
      "COM0052193      1\n",
      "COM0031414      1\n",
      "COM0056636      1\n",
      "COM0044282      1\n",
      "COM0057142      1\n",
      "COM0011256      1\n",
      "COM0055048      1\n",
      "COM0056011      1\n",
      "COM0039654      1\n",
      "COM0049206      1\n",
      "COM0035134      1\n",
      "COM0034011      1\n",
      "COM0011524      1\n",
      "COM0045796      1\n",
      "COM0032053      1\n",
      "COM0049818      1\n",
      "COM0017263      1\n",
      "Name: Employer_Code, dtype: int64\n",
      "Male      57153\n",
      "Female    42597\n",
      "Name: Gender, dtype: int64\n",
      "P    56483\n",
      "G    29839\n",
      "Name: Primary_Bank_Type, dtype: int64\n",
      "S122    44213\n",
      "S133    34190\n",
      "S159     6423\n",
      "S143     4921\n",
      "S127     2248\n",
      "S137     1972\n",
      "S134     1541\n",
      "S161      899\n",
      "S151      799\n",
      "S157      731\n",
      "S153      572\n",
      "S144      356\n",
      "S156      351\n",
      "S158      240\n",
      "S123       94\n",
      "S141       68\n",
      "S162       50\n",
      "S124       33\n",
      "S150       14\n",
      "S160        7\n",
      "S136        5\n",
      "S129        4\n",
      "S155        4\n",
      "S138        3\n",
      "S139        3\n",
      "S135        2\n",
      "S140        1\n",
      "S154        1\n",
      "S126        1\n",
      "S142        1\n",
      "S131        1\n",
      "S132        1\n",
      "S130        1\n",
      "Name: Source, dtype: int64\n",
      "B    42743\n",
      "G    37903\n",
      "C    16274\n",
      "E     1478\n",
      "D      717\n",
      "F      629\n",
      "A        6\n",
      "Name: Source_Category, dtype: int64\n"
     ]
    }
   ],
   "source": [
    "#Print frequency ist of categories\n",
    "#explain the relation of unique values and frequency distribution\n",
    "for x in categorical_cols:\n",
    "       #print (\"printing frequency of each category \"%x)\n",
    "       print(data[x].value_counts())"
   ]
  },
  {
   "cell_type": "code",
   "execution_count": 12,
   "metadata": {
    "collapsed": false
   },
   "outputs": [
    {
     "name": "stdout",
     "output_type": "stream",
     "text": [
      "Populating the interactive namespace from numpy and matplotlib\n"
     ]
    },
    {
     "name": "stderr",
     "output_type": "stream",
     "text": [
      "C:\\Users\\Rishika\\Anaconda3\\lib\\site-packages\\IPython\\core\\magics\\pylab.py:161: UserWarning: pylab import has clobbered these variables: ['test']\n",
      "`%matplotlib` prevents importing * from pylab and numpy\n",
      "  \"\\n`%matplotlib` prevents importing * from pylab and numpy\"\n"
     ]
    }
   ],
   "source": [
    "%pylab inline\n",
    "import matplotlib.pyplot as plt\n",
    "\n",
    "#plt.hist(data['Monthly_Income'], bins='auto')"
   ]
  },
  {
   "cell_type": "code",
   "execution_count": 17,
   "metadata": {
    "collapsed": false
   },
   "outputs": [
    {
     "data": {
      "text/plain": [
       "'ID                                     object\n",
       "Approved                               float64\n",
       "City_Category                           object\n",
       "City_Code                               object\n",
       "Contacted                               object\n",
       "Customer_Existing_Primary_Bank_Code     object\n",
       "DOB                                     object\n",
       "EMI                                    float64\n",
       "Employer_Category1                      object\n",
       "Employer_Category2                     float64\n",
       "Employer_Code                           object\n",
       "Existing_EMI                           float64\n",
       "Gender                                  object\n",
       "Interest_Rate                          float64\n",
       "Lead_Creation_Date                      object\n",
       "Loan_Amount                            float64\n",
       "Loan_Period                            float64\n",
       "Monthly_Income                         float64\n",
       "Primary_Bank_Type                       object\n",
       "Source                                  object\n",
       "Source_Category                         object\n",
       "Var1                                     int64\n",
       "source                                  object\n",
       "dtype: object"
      ]
     },
     "execution_count": 17,
     "metadata": {},
     "output_type": "execute_result"
    }
   ],
   "source": [
    "data.dtypes"
   ]
  },
  {
   "cell_type": "code",
   "execution_count": 20,
   "metadata": {
    "collapsed": false
   },
   "outputs": [
    {
     "data": {
      "text/plain": [
       "<matplotlib.axes._subplots.AxesSubplot at 0x17d6edfc8d0>"
      ]
     },
     "execution_count": 20,
     "metadata": {},
     "output_type": "execute_result"
    },
    {
     "data": {
      "image/png": "[encoded data removed]",
      "text/plain": [
       "<matplotlib.figure.Figure at 0x17d6edb8d68>"
      ]
     },
     "metadata": {},
     "output_type": "display_data"
    }
   ],
   "source": [
    "data.EMI.hist()"
   ]
  },
  {
   "cell_type": "code",
   "execution_count": 74,
   "metadata": {
    "collapsed": false
   },
   "outputs": [
    {
     "data": {
      "text/plain": [
       "<matplotlib.axes._subplots.AxesSubplot at 0x17d728555f8>"
      ]
     },
     "execution_count": 74,
     "metadata": {},
     "output_type": "execute_result"
    },
    {
     "data": {
      "image/png": "[encoded data removed]",
      "text/plain": [
       "<matplotlib.figure.Figure at 0x17d72259828>"
      ]
     },
     "metadata": {},
     "output_type": "display_data"
    }
   ],
   "source": [
    "# differece in monthly income, medianissame but there are highly paid males which re otliers\n",
    "train.boxplot(column='Monthly_Income',by='Gender')"
   ]
  },
  {
   "cell_type": "code",
   "execution_count": 75,
   "metadata": {
    "collapsed": false
   },
   "outputs": [],
   "source": [
    "groupbyGender=train.groupby(['Gender','Approved'])"
   ]
  },
  {
   "cell_type": "code",
   "execution_count": 78,
   "metadata": {
    "collapsed": false
   },
   "outputs": [
    {
     "data": {
      "text/html": [
       "<div>\n",
       "<table border=\"1\" class=\"dataframe\">\n",
       "  <thead>\n",
       "    <tr style=\"text-align: right;\">\n",
       "      <th>Approved</th>\n",
       "      <th>0</th>\n",
       "      <th>1</th>\n",
       "    </tr>\n",
       "    <tr>\n",
       "      <th>Gender</th>\n",
       "      <th></th>\n",
       "      <th></th>\n",
       "    </tr>\n",
       "  </thead>\n",
       "  <tbody>\n",
       "    <tr>\n",
       "      <th>Female</th>\n",
       "      <td>29516</td>\n",
       "      <td>248</td>\n",
       "    </tr>\n",
       "    <tr>\n",
       "      <th>Male</th>\n",
       "      <td>39177</td>\n",
       "      <td>772</td>\n",
       "    </tr>\n",
       "  </tbody>\n",
       "</table>\n",
       "</div>"
      ],
      "text/plain": [
       "Approved      0    1\n",
       "Gender              \n",
       "Female    29516  248\n",
       "Male      39177  772"
      ]
     },
     "execution_count": 78,
     "metadata": {},
     "output_type": "execute_result"
    }
   ],
   "source": [
    "groupbyGender.size().unstack()"
   ]
  },
  {
   "cell_type": "code",
   "execution_count": 79,
   "metadata": {
    "collapsed": false
   },
   "outputs": [
    {
     "data": {
      "text/plain": [
       "<matplotlib.axes._subplots.AxesSubplot at 0x17d726b9748>"
      ]
     },
     "execution_count": 79,
     "metadata": {},
     "output_type": "execute_result"
    },
    {
     "data": {
      "image/png": "[encoded data removed]",
      "text/plain": [
       "<matplotlib.figure.Figure at 0x17d72738a58>"
      ]
     },
     "metadata": {},
     "output_type": "display_data"
    }
   ],
   "source": [
    "groupbyGender.size().unstack().plot(kind='bar')\n",
    "# not significant difference since males get rejected alot and also approved"
   ]
  },
  {
   "cell_type": "code",
   "execution_count": 80,
   "metadata": {
    "collapsed": true
   },
   "outputs": [],
   "source": [
    "groupbyCity_Cat=train.groupby(['City_Category','Approved'])"
   ]
  },
  {
   "cell_type": "code",
   "execution_count": 82,
   "metadata": {
    "collapsed": false
   },
   "outputs": [
    {
     "data": {
      "text/html": [
       "<div>\n",
       "<table border=\"1\" class=\"dataframe\">\n",
       "  <thead>\n",
       "    <tr style=\"text-align: right;\">\n",
       "      <th>Approved</th>\n",
       "      <th>0</th>\n",
       "      <th>1</th>\n",
       "    </tr>\n",
       "    <tr>\n",
       "      <th>City_Category</th>\n",
       "      <th></th>\n",
       "      <th></th>\n",
       "    </tr>\n",
       "  </thead>\n",
       "  <tbody>\n",
       "    <tr>\n",
       "      <th>A</th>\n",
       "      <td>49059</td>\n",
       "      <td>826</td>\n",
       "    </tr>\n",
       "    <tr>\n",
       "      <th>B</th>\n",
       "      <td>7222</td>\n",
       "      <td>98</td>\n",
       "    </tr>\n",
       "    <tr>\n",
       "      <th>C</th>\n",
       "      <td>11600</td>\n",
       "      <td>94</td>\n",
       "    </tr>\n",
       "  </tbody>\n",
       "</table>\n",
       "</div>"
      ],
      "text/plain": [
       "Approved           0    1\n",
       "City_Category            \n",
       "A              49059  826\n",
       "B               7222   98\n",
       "C              11600   94"
      ]
     },
     "execution_count": 82,
     "metadata": {},
     "output_type": "execute_result"
    }
   ],
   "source": [
    "groupbyCity_Cat.size().unstack()"
   ]
  },
  {
   "cell_type": "code",
   "execution_count": 83,
   "metadata": {
    "collapsed": false
   },
   "outputs": [
    {
     "data": {
      "text/plain": [
       "<matplotlib.axes._subplots.AxesSubplot at 0x17d726824a8>"
      ]
     },
     "execution_count": 83,
     "metadata": {},
     "output_type": "execute_result"
    },
    {
     "data": {
      "image/png": "[encoded data removed]",
      "text/plain": [
       "<matplotlib.figure.Figure at 0x17d7276d7b8>"
      ]
     },
     "metadata": {},
     "output_type": "display_data"
    }
   ],
   "source": [
    "#hifhest applicants\n",
    "groupbyCity_Cat.size().unstack().plot(kind='bar')"
   ]
  },
  {
   "cell_type": "code",
   "execution_count": 84,
   "metadata": {
    "collapsed": true
   },
   "outputs": [],
   "source": [
    "                    groupbycontact=train.groupby(['Contacted','Approved'])"
   ]
  },
  {
   "cell_type": "code",
   "execution_count": 86,
   "metadata": {
    "collapsed": false
   },
   "outputs": [
    {
     "data": {
      "text/html": [
       "<div>\n",
       "<table border=\"1\" class=\"dataframe\">\n",
       "  <thead>\n",
       "    <tr style=\"text-align: right;\">\n",
       "      <th>Approved</th>\n",
       "      <th>0</th>\n",
       "      <th>1</th>\n",
       "    </tr>\n",
       "    <tr>\n",
       "      <th>Contacted</th>\n",
       "      <th></th>\n",
       "      <th></th>\n",
       "    </tr>\n",
       "  </thead>\n",
       "  <tbody>\n",
       "    <tr>\n",
       "      <th>N</th>\n",
       "      <td>24265</td>\n",
       "      <td>173</td>\n",
       "    </tr>\n",
       "    <tr>\n",
       "      <th>Y</th>\n",
       "      <td>44428</td>\n",
       "      <td>847</td>\n",
       "    </tr>\n",
       "  </tbody>\n",
       "</table>\n",
       "</div>"
      ],
      "text/plain": [
       "Approved       0    1\n",
       "Contacted            \n",
       "N          24265  173\n",
       "Y          44428  847"
      ]
     },
     "execution_count": 86,
     "metadata": {},
     "output_type": "execute_result"
    }
   ],
   "source": [
    "groupbycontact.size().unstack()\n",
    "# contacted ge approved more \n",
    "#do same for source,existing emi etc"
   ]
  },
  {
   "cell_type": "code",
   "execution_count": 88,
   "metadata": {
    "collapsed": false
   },
   "outputs": [
    {
     "data": {
      "text/plain": [
       "<matplotlib.axes._subplots.AxesSubplot at 0x17d72822668>"
      ]
     },
     "execution_count": 88,
     "metadata": {},
     "output_type": "execute_result"
    },
    {
     "data": {
      "image/png": "[encoded data removed]",
      "text/plain": [
       "<matplotlib.figure.Figure at 0x17d7283a780>"
      ]
     },
     "metadata": {},
     "output_type": "display_data"
    }
   ],
   "source": [
    "train.boxplot(column='Loan_Amount')\n",
    "#outliers alert\n",
    "#need to fix mising vals n outlier\n",
    "#skip the vars with high missing vals"
   ]
  },
  {
   "cell_type": "code",
   "execution_count": null,
   "metadata": {
    "collapsed": true
   },
   "outputs": [],
   "source": [
    "temp1 = df['Credit_History'].value_counts(ascending=True)\n",
    "temp2 = df.pivot_table(values='Loan_Status',index=['Credit_History'],aggfunc=lambda x: x.map({'Y':1,'N':0}).mean())\n",
    "print 'Frequency Table for Credit History:' \n",
    "print temp1\n",
    "\n",
    "print '\\nProbility of getting loan for each Credit History class:' \n",
    "print temp2"
   ]
  }
 ],
 "metadata": {
  "kernelspec": {
   "display_name": "Python 3",
   "language": "python",
   "name": "python3"
  },
  "language_info": {
   "codemirror_mode": {
    "name": "ipython",
    "version": 3
   },
   "file_extension": ".py",
   "mimetype": "text/x-python",
   "name": "python",
   "nbconvert_exporter": "python",
   "pygments_lexer": "ipython3",
   "version": "3.6.0"
  }
 },
 "nbformat": 4,
 "nbformat_minor": 2
}
