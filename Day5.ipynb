{
 "cells": [
  {
   "cell_type": "markdown",
   "metadata": {},
   "source": [
    "<img src=\"AV_Logo.png\" style=\"width: 200px;height: 75px\"/>"
   ]
  },
  {
   "cell_type": "markdown",
   "metadata": {},
   "source": [
    "Table of Contents\n",
    "--------------\n",
    "* [What is Predictive Modelling?](#What-is-Predictive-Modelling?)\n",
    "* [Building the first model](#Building-the-first-model)\n",
    "* [How to find the best regression line?](#How-to-find-the-best-regression-line?)\n",
    "* [Performance Evaluation Metrics in Regression](#Performance-Evaluation-Metrics-in-Regression)\n",
    "* [Multivariate Regression](#Multivariate-Regression)\n",
    "* [Hands-on practice problem](#Hands-on-practice-problem)\n",
    "* [A few points of caution when applying Linear Regression](#A-few-points-of-caution-when-applying-Linear-Regression)"
   ]
  },
  {
   "cell_type": "markdown",
   "metadata": {},
   "source": [
    "## What is Predictive Modelling?"
   ]
  },
  {
   "cell_type": "markdown",
   "metadata": {},
   "source": [
    "Now that we are comfortable in processing the data its time to see what all we can do with it. You may remember the life cycle of data modelling that was discussed on [day 1](https://datahack.analyticsvidhya.com/s/832e7b4373ed46d98bfc849a8c607d1a).  "
   ]
  },
  {
   "cell_type": "markdown",
   "metadata": {
    "collapsed": true
   },
   "source": [
    "<img src=\"lifecycle.png\" style=\"width: 400px;height: 300px\">"
   ]
  },
  {
   "cell_type": "markdown",
   "metadata": {},
   "source": [
    "We have already seen problem definition, hypothesis generation, data collection and exploration. Let's now see what predictive modelling is. \n",
    "\n",
    "**Predictive Modelling** is a process to create statistical model for estimating/predicting the future behaviour based on past data. \n",
    "\n",
    "Let's take a simple example. A retail bank wants to know the default behaviour of its credit card customers. They want to predict the probability of default for each customer within next 3 months. What do they do ?\n",
    "\n",
    "* First the problem is defined i.e. to identify the customers who will default in next 3 months\n",
    "* Generate and define the hypothesis\n",
    "* Collect past data \n",
    "* Conduct univariate and bivariate analysis for the collected data\n",
    "* Treat Missing values and Outliers\n",
    "* Build a predictive model\n",
    "* Deploy the model"
   ]
  },
  {
   "cell_type": "markdown",
   "metadata": {},
   "source": [
    "Now whenever we do predictive modelling, we face a difficulty as to which algorithm we should apply to solve the problem. This can be remedied by doing the following: \n",
    "\n",
    "* Check if there is a target / dependent variable in your data. If it is not present, you should use an **unsupervised learning** algorithm (for example, k-means).\n",
    "* If the target variable is present, it probably is a **supervised learning** problem. \n",
    "* Even in supervised learning problems, you have to check whether the target variable is categorical or continuous; because depending on the target your algorithms would change.\n",
    "* If the target variable is continuous, your problem is a regression problem. So you should use an algorithm like linear regression.\n",
    "* If the target variable is categorical, your problem is a classification problem. So you should use an algorithm like logistic regression."
   ]
  },
  {
   "cell_type": "markdown",
   "metadata": {},
   "source": [
    "Let's look at supervised and unsupervised learning algorithms in more detail."
   ]
  },
  {
   "cell_type": "markdown",
   "metadata": {},
   "source": [
    "### Supervised Learning"
   ]
  },
  {
   "cell_type": "markdown",
   "metadata": {},
   "source": [
    "A supervised learning algorithm consist of a target / outcome variable (or dependent variable) which is to be predicted from a given set of predictors (independent variables). Using these set of variables, we generate a function that map inputs to desired outputs. The training process continues until the model achieves a desired level of accuracy on the training data. Also, as we saw previously, these algorithms can again be divided into two main categories\n",
    "\n",
    "* Classification : where we use the algorithm to predict a categorical outcome - for example, whether democrats will win the election or the Republicans \n",
    "* Regression : where we use the algorithm to predict a numeric outcome - for example, predicting the house prices "
   ]
  },
  {
   "cell_type": "markdown",
   "metadata": {},
   "source": [
    "### Unsupervised Learning"
   ]
  },
  {
   "cell_type": "markdown",
   "metadata": {},
   "source": [
    "In unsupervised learning algorithm, we do not have any target or outcome variable to predict / estimate.  It is used for clustering population in different groups, which is widely used for segmenting customers in different groups for specific intervention, for example, we use it segregate the customers on the basis of their liking to identify their preference"
   ]
  },
  {
   "cell_type": "markdown",
   "metadata": {},
   "source": [
    "<img src=\"crux.png\" style=\"width: 400px;height: 400px\"/>"
   ]
  },
  {
   "cell_type": "markdown",
   "metadata": {
    "collapsed": true
   },
   "source": [
    "There is also a third type of learning called reinforcement learning, but for simplicity we will not be discussing it today. If you are curious, you can refer [this article](https://www.analyticsvidhya.com/blog/2017/01/introduction-to-reinforcement-learning-implementation/)."
   ]
  },
  {
   "cell_type": "markdown",
   "metadata": {},
   "source": [
    "**Exercise**:\n",
    "\n",
    "Q1. For the scenarios given below, indentify what kind of problem does it belong to (whether it is a supervised (regression or classification) or unsupervised learning problem):\n",
    "\n",
    "*Scenario 1:*\n",
    "\n",
    "You have to predict how many CD's of a music album will be sold in next three months of the launch. \n",
    "\n",
    "*Scenario 2:*\n",
    "\n",
    "Given a person’s credentials and background information, your system should assess whether a person should be eligible for a loan grant.\n",
    "\n",
    "*Scenario 3:*\n",
    "\n",
    "A marketing team wants to have a targeted marketing campaign based on the customer segment. "
   ]
  },
  {
   "cell_type": "code",
   "execution_count": null,
   "metadata": {
    "collapsed": true
   },
   "outputs": [],
   "source": []
  },
  {
   "cell_type": "markdown",
   "metadata": {},
   "source": [
    "## Building the first model"
   ]
  },
  {
   "cell_type": "markdown",
   "metadata": {},
   "source": [
    "Let's take the simplest example of supervised learning. Suppose we try to predict the weight of a person using their height. Here Let the height be on X axis and weight be on the Y axis. \n",
    "\n",
    "Since we're trying to predict the weight, it is known as the **dependent** variable, while the height is known as the **independent** variable. We're assuming that weight depends on height. Also, you can see that our dependent variable is continuous. So it is a regression problem. We can plot the scatter plot of height and weight as below, and identify that they are very strongly correlated.\n",
    "\n",
    "<img src=\"linear5.png\" style=\"width: 300px;height: 200px\">"
   ]
  },
  {
   "cell_type": "markdown",
   "metadata": {},
   "source": [
    "The line that you see, is a best fit line which tries to summarise the points on the scatter plot. The simplest form of regression with one dependent and one independent variable is defined by the formula:\n",
    "$Y = aX + b$\n",
    "\n",
    "Above, you can see that a black line passes through the data points. Now, you carefully notice that this line intersects the data points at coordinates (190, 67) and (180,65). Here’s a question. Find the equation that describe this line? Your answer should be:\n",
    "\n",
    "$Y= a * X + b$\n",
    "\n",
    "Now, find the value of a and b?\n",
    "\n",
    "With out going in its working, the outcome after solving these equations is:\n",
    "\n",
    " $a = 0.2811, b = 13.9$\n",
    "\n",
    "Hence, our regression equation becomes: $Y = 0.2811*X +  13.9$\n",
    "\n",
    "Here, Slope = 0.2811 and Intercept = 13.9 (as Y = 13.9 when x is 0). \n",
    "\n",
    "This equation is known as linear regression equation, \n",
    "\n",
    "where,\n",
    "\n",
    "* Y is target variable, \n",
    "* X is input variable. \n",
    "* ‘a’ is known as slope and \n",
    "* ‘b’ as intercept. \n",
    "\n",
    "This equation is used to estimate real values based on input variable(s). Here, we establish relationship between independent and dependent variables by fitting a best line. \n",
    "\n",
    "Now, you might think that in above example, there can be multiple regression lines those can pass through the data points. So, how to choose the best fit line or value of co-efficients a and b. You can read more about it [here](https://discuss.analyticsvidhya.com/t/importance-of-error-term-in-linear-equation/2428/2?u=jalfaizy)."
   ]
  },
  {
   "cell_type": "markdown",
   "metadata": {},
   "source": [
    "## How to find the best regression line?"
   ]
  },
  {
   "cell_type": "markdown",
   "metadata": {},
   "source": [
    "We discussed above that regression line establishes a relationship between independent and dependent variable(s). A line which can explain the relationship better is said to be best fit line.\n",
    "\n",
    "In other words, the best fit line tends to return most accurate value of Y based on X  i.e. causing a minimum difference between actual and predicted value of Y (lower prediction error).\n",
    "\n",
    "<img src=\"linear2.png\" style=\"width: 300px;height: 200px\">"
   ]
  },
  {
   "cell_type": "markdown",
   "metadata": {},
   "source": [
    "Here are some methods by which we check for errors:\n",
    "\n",
    "* **Sum of all errors (∑error)** - Using this method leads to cancellation of positive and negative errors, which certainly isn’t our motive. Hence, it is not the right method.\n",
    "* **Sum of absolute value of all errors (∑|error|) and Sum of square of all errors (∑error^2)** - Both methods perform well but, in case of ∑error^2, we penalize the error value much more as compared to ∑|error|.\n",
    "\n",
    "We generally prefer the sum of square error and therefore, the coefficients a and b are derived based on minimizing the sum of squared difference of distance between data points and regression line."
   ]
  },
  {
   "cell_type": "markdown",
   "metadata": {},
   "source": [
    "## Performance Evaluation Metrics in Regression"
   ]
  },
  {
   "cell_type": "markdown",
   "metadata": {},
   "source": [
    "To evaluate the performance of regression line, we should look at the minimum sum of squared errors (SSE). It works well but it has one concern. SSE is highly sensitive to number of data points. \n",
    "\n",
    "Other metric to evaluate the performance of linear regression is R-square and most common metric to judge the performance of regression models. R² measures, “How much the change in output variable (y) is explained by the change in input variable(x).\n",
    "\n",
    "**R-squared**:\n",
    "\n",
    "R-squared is always between 0 and 1:\n",
    "\n",
    "<img src=\"R2.png\" style=\"width: 300px;height: 100px\">\n",
    "\n",
    "0 indicates that the model explains NIL variability in the response data around its mean.\n",
    "1 indicates that the model explains full variability in the response data around its mean.\n",
    "In general, higher the R², more robust will be the model."
   ]
  },
  {
   "cell_type": "markdown",
   "metadata": {},
   "source": [
    "One disadvantage of R-squared is that it can only increase as predictors are added to the regression model. This increase is artificial when predictors are not actually improving the model’s fit. To cure this, we use “Adjusted R-squared”.\n",
    "\n",
    "Adjusted R-squared is nothing but the change of R-square that adjusts the number of terms in a model. Adjusted R square calculates the proportion of the variation in the dependent variable accounted by the explanatory variables. It incorporates the model’s degrees of freedom. Adjusted R-squared will decrease as predictors are added if the increase in model fit does not make up for the loss of degrees of freedom. Likewise, it will increase as predictors are added if the increase in model fit is worthwhile. Adjusted R-squared should always be used with models with more than one predictor variable. It is interpreted as the proportion of total variance that is explained by the model.\n",
    "\n",
    "<img src=\"R2ad.png\" style=\"width: 300px;height: 200px\">"
   ]
  },
  {
   "cell_type": "markdown",
   "metadata": {
    "collapsed": true
   },
   "source": [
    "# Multivariate Regression"
   ]
  },
  {
   "cell_type": "markdown",
   "metadata": {},
   "source": [
    "Let’s now examine the process to deal with multiple independent variables related to a dependent variable.\n",
    "\n",
    "Once you have identified the level of significance between independent variables and dependent variables, use these significant independent variables to make more powerful and accurate predictions. This technique is known as  “Multi-variate Regression”.\n",
    "\n",
    "Let’s take an example here to understand this concept further.\n",
    "\n",
    "We know that, compensation of a person depends on his age i.e. the older one gets, the higher he/she earns as compared to previous year. You build a simple regression model to explain this effect of age on a person’s compensation . You obtain R2 of 27%. What does this mean?\n",
    "\n",
    "In this example, R² as 27%, says, only 27% of variance in compensation is explained by Age. In other words, if you know a person’s age, you’ll have 27% information to make an accurate prediction about their compensation.\n",
    "\n",
    "Now, let’s take an additional variable as ‘time spent with the company’ to determine the current compensation. By this, R2 value increases to 37%. How do we interpret this value now?\n",
    "\n",
    "Notice that a person’s time with company holds only 10% responsible for his/her earning by profession. In other words, by adding this variable to our study, we improved our understanding of their compensation from 27% to 37%.\n",
    "\n",
    "Therefore, we learnt, by using two variables rather than one, improved the ability to make accurate predictions about a person’s salary.\n",
    "\n",
    "Things get much more complicated when your multiple independent variables are related to with each other. This phenomenon is known as Multicollinearity. This is undesirable.  To avoid such situation, it is advisable to look for Variance Inflation Factor (VIF). For no multicollinearity, VIF should be ( VIF < 2). In case of high VIF, look for correlation table to find highly correlated variables and take one of them.\n",
    "\n",
    "In an multiple regression model, the equation looks like below\n",
    "\n",
    "<img src=\"Linear4.png\" style=\"width: 300px;height: 50px\">\n",
    "\n",
    "Here, b1, b2, b3 …bk are slopes for each independent variables X1, X2, X3….Xk and \"a\" is intercept.\n",
    "\n",
    "*Note: In general, a linear regression equation looks like $Y = b1X1 + b2X2 .. + a + e$, where e is the error term (noise in the dataset). For simplicity, we are not discussing it here. \n",
    "\n",
    "Example: Net worth = a+ b1 (Age) +b2 (Time with company)\n",
    "\n",
    "-----------------------"
   ]
  },
  {
   "cell_type": "markdown",
   "metadata": {},
   "source": [
    "## Hands-on practice problem"
   ]
  },
  {
   "cell_type": "markdown",
   "metadata": {},
   "source": [
    "Now let's apply our learnings for today on a practice problem. This practice problem we specially created for participants of DataHack hour.\n",
    "\n",
    "To participate in the hackathon, \n",
    "* Click on the [link provided](https://datahack.analyticsvidhya.com/contest/datahack-hour-bike-sharing/) \n",
    "* Register for the contest. \n",
    "* Then download the dataset from the website to work on the problem.\n",
    "* Make sure you extract the files in the same folder as this jupyter notebook\n",
    "* Your directory structure will similar to this"
   ]
  },
  {
   "cell_type": "markdown",
   "metadata": {},
   "source": [
    "![img](Capture.png)"
   ]
  },
  {
   "cell_type": "markdown",
   "metadata": {},
   "source": [
    "Now you can go forward and build your first linear regression model!"
   ]
  },
  {
   "cell_type": "markdown",
   "metadata": {},
   "source": [
    "Let's look at a few basic steps you should always follow when participating in a hachathon\n",
    "\n",
    "* importing important libraries\n",
    "* loading dataset\n",
    "* exploring the dataset and visualizing it\n",
    "* taking care of missing values and outliers\n",
    "* separating predictor and target variables to make a prediction model\n",
    "* create a machine learning model\n",
    "* train the model and get its predictions\n",
    "* finally create a submission file and submit it."
   ]
  },
  {
   "cell_type": "code",
   "execution_count": 8,
   "metadata": {
    "collapsed": true
   },
   "outputs": [],
   "source": [
    "# import important libraries\n",
    "import pandas as pd\n",
    "\n",
    "from sklearn.metrics import mean_squared_error, r2_score\n",
    "from sklearn.linear_model import LinearRegression"
   ]
  },
  {
   "cell_type": "code",
   "execution_count": 9,
   "metadata": {
    "collapsed": false
   },
   "outputs": [],
   "source": [
    "# load dataset\n",
    "train_data = pd.read_csv('train.csv')\n",
    "#test_data = pd.read_csv('test_uLBXQQR.csv')"
   ]
  },
  {
   "cell_type": "code",
   "execution_count": 10,
   "metadata": {
    "collapsed": false
   },
   "outputs": [
    {
     "data": {
      "text/html": [
       "<div>\n",
       "<table border=\"1\" class=\"dataframe\">\n",
       "  <thead>\n",
       "    <tr style=\"text-align: right;\">\n",
       "      <th></th>\n",
       "      <th>instant</th>\n",
       "      <th>dteday</th>\n",
       "      <th>season</th>\n",
       "      <th>yr</th>\n",
       "      <th>mnth</th>\n",
       "      <th>hr</th>\n",
       "      <th>holiday</th>\n",
       "      <th>weekday</th>\n",
       "      <th>workingday</th>\n",
       "      <th>weathersit</th>\n",
       "      <th>temp</th>\n",
       "      <th>atemp</th>\n",
       "      <th>hum</th>\n",
       "      <th>windspeed</th>\n",
       "      <th>casual</th>\n",
       "      <th>registered</th>\n",
       "      <th>cnt</th>\n",
       "    </tr>\n",
       "  </thead>\n",
       "  <tbody>\n",
       "    <tr>\n",
       "      <th>0</th>\n",
       "      <td>1</td>\n",
       "      <td>2011-01-01</td>\n",
       "      <td>1</td>\n",
       "      <td>0</td>\n",
       "      <td>1</td>\n",
       "      <td>0</td>\n",
       "      <td>0</td>\n",
       "      <td>6</td>\n",
       "      <td>0</td>\n",
       "      <td>1</td>\n",
       "      <td>0.24</td>\n",
       "      <td>0.2879</td>\n",
       "      <td>0.81</td>\n",
       "      <td>0.0</td>\n",
       "      <td>3</td>\n",
       "      <td>13</td>\n",
       "      <td>16</td>\n",
       "    </tr>\n",
       "    <tr>\n",
       "      <th>1</th>\n",
       "      <td>2</td>\n",
       "      <td>2011-01-01</td>\n",
       "      <td>1</td>\n",
       "      <td>0</td>\n",
       "      <td>1</td>\n",
       "      <td>1</td>\n",
       "      <td>0</td>\n",
       "      <td>6</td>\n",
       "      <td>0</td>\n",
       "      <td>1</td>\n",
       "      <td>0.22</td>\n",
       "      <td>0.2727</td>\n",
       "      <td>0.80</td>\n",
       "      <td>0.0</td>\n",
       "      <td>8</td>\n",
       "      <td>32</td>\n",
       "      <td>40</td>\n",
       "    </tr>\n",
       "    <tr>\n",
       "      <th>2</th>\n",
       "      <td>3</td>\n",
       "      <td>2011-01-01</td>\n",
       "      <td>1</td>\n",
       "      <td>0</td>\n",
       "      <td>1</td>\n",
       "      <td>2</td>\n",
       "      <td>0</td>\n",
       "      <td>6</td>\n",
       "      <td>0</td>\n",
       "      <td>1</td>\n",
       "      <td>0.22</td>\n",
       "      <td>0.2727</td>\n",
       "      <td>0.80</td>\n",
       "      <td>0.0</td>\n",
       "      <td>5</td>\n",
       "      <td>27</td>\n",
       "      <td>32</td>\n",
       "    </tr>\n",
       "    <tr>\n",
       "      <th>3</th>\n",
       "      <td>4</td>\n",
       "      <td>2011-01-01</td>\n",
       "      <td>1</td>\n",
       "      <td>0</td>\n",
       "      <td>1</td>\n",
       "      <td>3</td>\n",
       "      <td>0</td>\n",
       "      <td>6</td>\n",
       "      <td>0</td>\n",
       "      <td>1</td>\n",
       "      <td>0.24</td>\n",
       "      <td>0.2879</td>\n",
       "      <td>0.75</td>\n",
       "      <td>0.0</td>\n",
       "      <td>3</td>\n",
       "      <td>10</td>\n",
       "      <td>13</td>\n",
       "    </tr>\n",
       "    <tr>\n",
       "      <th>4</th>\n",
       "      <td>5</td>\n",
       "      <td>2011-01-01</td>\n",
       "      <td>1</td>\n",
       "      <td>0</td>\n",
       "      <td>1</td>\n",
       "      <td>4</td>\n",
       "      <td>0</td>\n",
       "      <td>6</td>\n",
       "      <td>0</td>\n",
       "      <td>1</td>\n",
       "      <td>0.24</td>\n",
       "      <td>0.2879</td>\n",
       "      <td>0.75</td>\n",
       "      <td>0.0</td>\n",
       "      <td>0</td>\n",
       "      <td>1</td>\n",
       "      <td>1</td>\n",
       "    </tr>\n",
       "  </tbody>\n",
       "</table>\n",
       "</div>"
      ],
      "text/plain": [
       "   instant      dteday  season  yr  mnth  hr  holiday  weekday  workingday  \\\n",
       "0        1  2011-01-01       1   0     1   0        0        6           0   \n",
       "1        2  2011-01-01       1   0     1   1        0        6           0   \n",
       "2        3  2011-01-01       1   0     1   2        0        6           0   \n",
       "3        4  2011-01-01       1   0     1   3        0        6           0   \n",
       "4        5  2011-01-01       1   0     1   4        0        6           0   \n",
       "\n",
       "   weathersit  temp   atemp   hum  windspeed  casual  registered  cnt  \n",
       "0           1  0.24  0.2879  0.81        0.0       3          13   16  \n",
       "1           1  0.22  0.2727  0.80        0.0       8          32   40  \n",
       "2           1  0.22  0.2727  0.80        0.0       5          27   32  \n",
       "3           1  0.24  0.2879  0.75        0.0       3          10   13  \n",
       "4           1  0.24  0.2879  0.75        0.0       0           1    1  "
      ]
     },
     "execution_count": 10,
     "metadata": {},
     "output_type": "execute_result"
    }
   ],
   "source": [
    "train_data.head()"
   ]
  },
  {
   "cell_type": "code",
   "execution_count": 11,
   "metadata": {
    "collapsed": false
   },
   "outputs": [],
   "source": [
    "# separate predictor and target variables\n",
    "X = train_data[['instant', 'season', 'yr', 'mnth', 'hr', 'holiday', 'weekday',\n",
    "       'workingday', 'weathersit', 'temp', 'atemp', 'hum', 'windspeed']]\n",
    "y = train_data[['cnt']]\n",
    "\n",
    "#X_test = test_data[['instant', 'season', 'yr', 'mnth', 'hr', 'holiday', 'weekday',\n",
    "       #'workingday', 'weathersit', 'temp', 'atemp', 'hum', 'windspeed']]"
   ]
  },
  {
   "cell_type": "code",
   "execution_count": 12,
   "metadata": {
    "collapsed": false
   },
   "outputs": [],
   "source": [
    "# create machine learning model\n",
    "lin = LinearRegression()"
   ]
  },
  {
   "cell_type": "code",
   "execution_count": 13,
   "metadata": {
    "collapsed": false
   },
   "outputs": [
    {
     "data": {
      "text/plain": [
       "LinearRegression(copy_X=True, fit_intercept=True, n_jobs=1, normalize=False)"
      ]
     },
     "execution_count": 13,
     "metadata": {},
     "output_type": "execute_result"
    }
   ],
   "source": [
    "# train model\n",
    "lin.fit(X, y)"
   ]
  },
  {
   "cell_type": "code",
   "execution_count": 14,
   "metadata": {
    "collapsed": false
   },
   "outputs": [
    {
     "data": {
      "text/plain": [
       "array([[ -6.86366153e-03,   9.74255429e+00,   1.42690138e+02,\n",
       "          7.37083015e+00,   6.90370950e+00,  -2.31765356e+01,\n",
       "          1.50249988e+00,  -9.62561554e-01,  -7.46169147e+00,\n",
       "          8.47724680e+01,   2.17417117e+02,  -1.59158992e+02,\n",
       "          2.90376918e+01]])"
      ]
     },
     "execution_count": 14,
     "metadata": {},
     "output_type": "execute_result"
    }
   ],
   "source": [
    "# print multivariate corefficients, i.e. slopes\n",
    "lin.coef_"
   ]
  },
  {
   "cell_type": "code",
   "execution_count": 15,
   "metadata": {
    "collapsed": false
   },
   "outputs": [
    {
     "data": {
      "text/plain": [
       "array([-18.45206006])"
      ]
     },
     "execution_count": 15,
     "metadata": {},
     "output_type": "execute_result"
    }
   ],
   "source": [
    "# print intercept\n",
    "lin.intercept_"
   ]
  },
  {
   "cell_type": "code",
   "execution_count": 16,
   "metadata": {
    "collapsed": false
   },
   "outputs": [
    {
     "ename": "NameError",
     "evalue": "name 'X_test' is not defined",
     "output_type": "error",
     "traceback": [
      "\u001b[0;31m---------------------------------------------------------------------------\u001b[0m",
      "\u001b[0;31mNameError\u001b[0m                                 Traceback (most recent call last)",
      "\u001b[0;32m<ipython-input-16-6e64cd30f37c>\u001b[0m in \u001b[0;36m<module>\u001b[0;34m()\u001b[0m\n\u001b[1;32m      1\u001b[0m \u001b[1;31m# get predictions\u001b[0m\u001b[1;33m\u001b[0m\u001b[1;33m\u001b[0m\u001b[0m\n\u001b[0;32m----> 2\u001b[0;31m \u001b[0mpredictions\u001b[0m \u001b[1;33m=\u001b[0m \u001b[0mlin\u001b[0m\u001b[1;33m.\u001b[0m\u001b[0mpredict\u001b[0m\u001b[1;33m(\u001b[0m\u001b[0mX_test\u001b[0m\u001b[1;33m)\u001b[0m\u001b[1;33m\u001b[0m\u001b[0m\n\u001b[0m",
      "\u001b[0;31mNameError\u001b[0m: name 'X_test' is not defined"
     ]
    }
   ],
   "source": [
    "# get predictions\n",
    "predictions = lin.predict(X_test)"
   ]
  },
  {
   "cell_type": "code",
   "execution_count": 10,
   "metadata": {
    "collapsed": false
   },
   "outputs": [
    {
     "data": {
      "text/html": [
       "<div>\n",
       "<table border=\"1\" class=\"dataframe\">\n",
       "  <thead>\n",
       "    <tr style=\"text-align: right;\">\n",
       "      <th></th>\n",
       "      <th>instant</th>\n",
       "      <th>cnt</th>\n",
       "    </tr>\n",
       "  </thead>\n",
       "  <tbody>\n",
       "    <tr>\n",
       "      <th>0</th>\n",
       "      <td>13036</td>\n",
       "      <td>302.732226</td>\n",
       "    </tr>\n",
       "    <tr>\n",
       "      <th>1</th>\n",
       "      <td>13037</td>\n",
       "      <td>322.607611</td>\n",
       "    </tr>\n",
       "    <tr>\n",
       "      <th>2</th>\n",
       "      <td>13038</td>\n",
       "      <td>342.562414</td>\n",
       "    </tr>\n",
       "    <tr>\n",
       "      <th>3</th>\n",
       "      <td>13039</td>\n",
       "      <td>378.024896</td>\n",
       "    </tr>\n",
       "    <tr>\n",
       "      <th>4</th>\n",
       "      <td>13040</td>\n",
       "      <td>375.520944</td>\n",
       "    </tr>\n",
       "  </tbody>\n",
       "</table>\n",
       "</div>"
      ],
      "text/plain": [
       "   instant         cnt\n",
       "0    13036  302.732226\n",
       "1    13037  322.607611\n",
       "2    13038  342.562414\n",
       "3    13039  378.024896\n",
       "4    13040  375.520944"
      ]
     },
     "execution_count": 10,
     "metadata": {},
     "output_type": "execute_result"
    }
   ],
   "source": [
    "# create submission file\n",
    "submission = pd.DataFrame(data=[], columns=['instant', 'cnt'])\n",
    "submission.instant = test_data.instant; submission.cnt = predictions\n",
    "\n",
    "submission.to_csv('submission.csv', index=False)\n",
    "\n",
    "submission.head()"
   ]
  },
  {
   "cell_type": "markdown",
   "metadata": {},
   "source": [
    "Now submit this as a solution to datahack platform. If you got a score of ~300, congratulations, you have just bulit your first linear regression model!"
   ]
  },
  {
   "cell_type": "markdown",
   "metadata": {},
   "source": [
    "## A few points of caution when applying Linear Regression"
   ]
  },
  {
   "cell_type": "markdown",
   "metadata": {},
   "source": [
    "Regression is a parametric approach. ‘Parametric’ means it makes assumptions about data for the purpose of analysis. Due to its parametric side, regression is restrictive in nature. It fails to deliver good results with data sets which doesn’t fulfill its assumptions. Therefore, for a successful regression analysis, it’s essential to validate these assumptions.\n",
    "\n",
    "Let’s look at the important assumptions in regression analysis:\n",
    "\n",
    "* There should be a linear and additive relationship between dependent (response) variable and independent (predictor) variable(s). A linear relationship suggests that a change in response Y due to one unit change in X is constant, regardless of the value of X. An additive relationship suggests that the effect of X on Y is independent of other variables.\n",
    "* There should be no correlation between the residual (error) terms. Absence of this phenomenon is known as Autocorrelation.\n",
    "* The independent variables should not be correlated. Absence of this phenomenon is known as multicollinearity.\n",
    "* The error terms must have constant variance. This phenomenon is known as homoskedasticity. The presence of non-constant variance is referred to heteroskedasticity.\n",
    "* The error terms must be normally distributed.\n",
    "\n",
    "Taking care of assumptions is a bit advanced topic, so we will not be covering here. You can refer the article [Going Deeper into Regression Analysis with Assumptions, Plots & Solutions](https://www.analyticsvidhya.com/blog/2016/07/deeper-regression-analysis-assumptions-plots-solutions/) for more information."
   ]
  },
  {
   "cell_type": "markdown",
   "metadata": {},
   "source": [
    "That's all for today!\n",
    "----------------\n",
    "-------------------------------\n",
    "<img src=\"AV_Datafest_logo.png\" style=\"width: 200px;height: 200px\"/>\n",
    "[www.analyticsvidhya.com](www.analyticsvidhya.com)\n",
    "\n",
    "DATAFEST 2017"
   ]
  }
 ],
 "metadata": {
  "kernelspec": {
   "display_name": "Python 3",
   "language": "python",
   "name": "python3"
  },
  "language_info": {
   "codemirror_mode": {
    "name": "ipython",
    "version": 3
   },
   "file_extension": ".py",
   "mimetype": "text/x-python",
   "name": "python",
   "nbconvert_exporter": "python",
   "pygments_lexer": "ipython3",
   "version": "3.6.0"
  }
 },
 "nbformat": 4,
 "nbformat_minor": 2
}
