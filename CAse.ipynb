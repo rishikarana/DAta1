{
 "cells": [
  {
   "cell_type": "code",
   "execution_count": 10,
   "metadata": {
    "collapsed": true
   },
   "outputs": [],
   "source": [
    "#importing pandas\n",
    "import pandas as pd\n",
    "#importing numpy\n",
    "import numpy as np"
   ]
  },
  {
   "cell_type": "code",
   "execution_count": 11,
   "metadata": {},
   "outputs": [],
   "source": [
    "#fetching data from csfv\n",
    "train = pd.read_csv('train.csv')"
   ]
  },
  {
   "cell_type": "code",
   "execution_count": 54,
   "metadata": {},
   "outputs": [
    {
     "data": {
      "text/html": [
       "<div>\n",
       "<style>\n",
       "    .dataframe thead tr:only-child th {\n",
       "        text-align: right;\n",
       "    }\n",
       "\n",
       "    .dataframe thead th {\n",
       "        text-align: left;\n",
       "    }\n",
       "\n",
       "    .dataframe tbody tr th {\n",
       "        vertical-align: top;\n",
       "    }\n",
       "</style>\n",
       "<table border=\"1\" class=\"dataframe\">\n",
       "  <thead>\n",
       "    <tr style=\"text-align: right;\">\n",
       "      <th></th>\n",
       "      <th>'ID</th>\n",
       "      <th>Gender</th>\n",
       "      <th>DOB</th>\n",
       "      <th>Lead_Creation_Date</th>\n",
       "      <th>City_Code</th>\n",
       "      <th>City_Category</th>\n",
       "      <th>Employer_Code</th>\n",
       "      <th>Employer_Category1</th>\n",
       "      <th>Employer_Category2</th>\n",
       "      <th>Monthly_Income</th>\n",
       "      <th>...</th>\n",
       "      <th>Contacted</th>\n",
       "      <th>Source</th>\n",
       "      <th>Source_Category</th>\n",
       "      <th>Existing_EMI</th>\n",
       "      <th>Loan_Amount</th>\n",
       "      <th>Loan_Period</th>\n",
       "      <th>Interest_Rate</th>\n",
       "      <th>EMI</th>\n",
       "      <th>Var1</th>\n",
       "      <th>Approved</th>\n",
       "    </tr>\n",
       "  </thead>\n",
       "  <tbody>\n",
       "    <tr>\n",
       "      <th>0</th>\n",
       "      <td>APPC90493171225</td>\n",
       "      <td>Female</td>\n",
       "      <td>23/07/79</td>\n",
       "      <td>15/07/16</td>\n",
       "      <td>C10001</td>\n",
       "      <td>A</td>\n",
       "      <td>COM0044082</td>\n",
       "      <td>A</td>\n",
       "      <td>Category_4</td>\n",
       "      <td>2000</td>\n",
       "      <td>...</td>\n",
       "      <td>N</td>\n",
       "      <td>S122</td>\n",
       "      <td>G</td>\n",
       "      <td>0.0</td>\n",
       "      <td>NaN</td>\n",
       "      <td>NaN</td>\n",
       "      <td>NaN</td>\n",
       "      <td>NaN</td>\n",
       "      <td>0</td>\n",
       "      <td>0</td>\n",
       "    </tr>\n",
       "    <tr>\n",
       "      <th>1</th>\n",
       "      <td>APPD40611263344</td>\n",
       "      <td>Male</td>\n",
       "      <td>07/12/86</td>\n",
       "      <td>04/07/16</td>\n",
       "      <td>C10003</td>\n",
       "      <td>A</td>\n",
       "      <td>COM0000002</td>\n",
       "      <td>C</td>\n",
       "      <td>Category_1</td>\n",
       "      <td>3500</td>\n",
       "      <td>...</td>\n",
       "      <td>Y</td>\n",
       "      <td>S122</td>\n",
       "      <td>G</td>\n",
       "      <td>0.0</td>\n",
       "      <td>20000.0</td>\n",
       "      <td>2.0</td>\n",
       "      <td>13.25</td>\n",
       "      <td>953.0</td>\n",
       "      <td>10</td>\n",
       "      <td>0</td>\n",
       "    </tr>\n",
       "    <tr>\n",
       "      <th>2</th>\n",
       "      <td>APPE70289249423</td>\n",
       "      <td>Male</td>\n",
       "      <td>10/12/82</td>\n",
       "      <td>19/07/16</td>\n",
       "      <td>C10125</td>\n",
       "      <td>C</td>\n",
       "      <td>COM0005267</td>\n",
       "      <td>C</td>\n",
       "      <td>Category_4</td>\n",
       "      <td>2250</td>\n",
       "      <td>...</td>\n",
       "      <td>Y</td>\n",
       "      <td>S143</td>\n",
       "      <td>B</td>\n",
       "      <td>0.0</td>\n",
       "      <td>45000.0</td>\n",
       "      <td>4.0</td>\n",
       "      <td>NaN</td>\n",
       "      <td>NaN</td>\n",
       "      <td>0</td>\n",
       "      <td>0</td>\n",
       "    </tr>\n",
       "    <tr>\n",
       "      <th>3</th>\n",
       "      <td>APPF80273865537</td>\n",
       "      <td>Male</td>\n",
       "      <td>30/01/89</td>\n",
       "      <td>09/07/16</td>\n",
       "      <td>C10477</td>\n",
       "      <td>C</td>\n",
       "      <td>COM0004143</td>\n",
       "      <td>A</td>\n",
       "      <td>Category_4</td>\n",
       "      <td>3500</td>\n",
       "      <td>...</td>\n",
       "      <td>Y</td>\n",
       "      <td>S143</td>\n",
       "      <td>B</td>\n",
       "      <td>0.0</td>\n",
       "      <td>92000.0</td>\n",
       "      <td>5.0</td>\n",
       "      <td>NaN</td>\n",
       "      <td>NaN</td>\n",
       "      <td>7</td>\n",
       "      <td>0</td>\n",
       "    </tr>\n",
       "    <tr>\n",
       "      <th>4</th>\n",
       "      <td>APPG60994436641</td>\n",
       "      <td>Male</td>\n",
       "      <td>19/04/85</td>\n",
       "      <td>20/07/16</td>\n",
       "      <td>C10002</td>\n",
       "      <td>A</td>\n",
       "      <td>COM0001781</td>\n",
       "      <td>A</td>\n",
       "      <td>Category_4</td>\n",
       "      <td>10000</td>\n",
       "      <td>...</td>\n",
       "      <td>Y</td>\n",
       "      <td>S134</td>\n",
       "      <td>B</td>\n",
       "      <td>2500.0</td>\n",
       "      <td>50000.0</td>\n",
       "      <td>2.0</td>\n",
       "      <td>NaN</td>\n",
       "      <td>NaN</td>\n",
       "      <td>10</td>\n",
       "      <td>0</td>\n",
       "    </tr>\n",
       "    <tr>\n",
       "      <th>5</th>\n",
       "      <td>APPI90914237819</td>\n",
       "      <td>Female</td>\n",
       "      <td>23/12/88</td>\n",
       "      <td>01/07/16</td>\n",
       "      <td>C10402</td>\n",
       "      <td>C</td>\n",
       "      <td>COM0007740</td>\n",
       "      <td>A</td>\n",
       "      <td>Category_4</td>\n",
       "      <td>7000</td>\n",
       "      <td>...</td>\n",
       "      <td>N</td>\n",
       "      <td>S133</td>\n",
       "      <td>B</td>\n",
       "      <td>0.0</td>\n",
       "      <td>NaN</td>\n",
       "      <td>NaN</td>\n",
       "      <td>NaN</td>\n",
       "      <td>NaN</td>\n",
       "      <td>0</td>\n",
       "      <td>0</td>\n",
       "    </tr>\n",
       "    <tr>\n",
       "      <th>6</th>\n",
       "      <td>APPK80327232033</td>\n",
       "      <td>Male</td>\n",
       "      <td>28/03/73</td>\n",
       "      <td>02/07/16</td>\n",
       "      <td>C10022</td>\n",
       "      <td>B</td>\n",
       "      <td>COM0030526</td>\n",
       "      <td>B</td>\n",
       "      <td>Category_4</td>\n",
       "      <td>7500</td>\n",
       "      <td>...</td>\n",
       "      <td>Y</td>\n",
       "      <td>S122</td>\n",
       "      <td>C</td>\n",
       "      <td>0.0</td>\n",
       "      <td>130000.0</td>\n",
       "      <td>5.0</td>\n",
       "      <td>14.85</td>\n",
       "      <td>3082.0</td>\n",
       "      <td>10</td>\n",
       "      <td>0</td>\n",
       "    </tr>\n",
       "    <tr>\n",
       "      <th>7</th>\n",
       "      <td>APPL20820172146</td>\n",
       "      <td>Female</td>\n",
       "      <td>12/11/90</td>\n",
       "      <td>03/07/16</td>\n",
       "      <td>C10003</td>\n",
       "      <td>A</td>\n",
       "      <td>COM0016738</td>\n",
       "      <td>A</td>\n",
       "      <td>Category_4</td>\n",
       "      <td>3000</td>\n",
       "      <td>...</td>\n",
       "      <td>Y</td>\n",
       "      <td>S133</td>\n",
       "      <td>B</td>\n",
       "      <td>0.0</td>\n",
       "      <td>30000.0</td>\n",
       "      <td>3.0</td>\n",
       "      <td>18.25</td>\n",
       "      <td>1088.0</td>\n",
       "      <td>0</td>\n",
       "      <td>0</td>\n",
       "    </tr>\n",
       "    <tr>\n",
       "      <th>8</th>\n",
       "      <td>APPM30977401211</td>\n",
       "      <td>Male</td>\n",
       "      <td>03/03/77</td>\n",
       "      <td>02/07/16</td>\n",
       "      <td>C10003</td>\n",
       "      <td>A</td>\n",
       "      <td>COM0010626</td>\n",
       "      <td>A</td>\n",
       "      <td>Category_4</td>\n",
       "      <td>2500</td>\n",
       "      <td>...</td>\n",
       "      <td>Y</td>\n",
       "      <td>S133</td>\n",
       "      <td>B</td>\n",
       "      <td>0.0</td>\n",
       "      <td>66000.0</td>\n",
       "      <td>5.0</td>\n",
       "      <td>20.00</td>\n",
       "      <td>1749.0</td>\n",
       "      <td>7</td>\n",
       "      <td>0</td>\n",
       "    </tr>\n",
       "    <tr>\n",
       "      <th>9</th>\n",
       "      <td>APPN60714112334</td>\n",
       "      <td>Female</td>\n",
       "      <td>13/12/90</td>\n",
       "      <td>02/07/16</td>\n",
       "      <td>C10014</td>\n",
       "      <td>B</td>\n",
       "      <td>COM0042212</td>\n",
       "      <td>A</td>\n",
       "      <td>Category_4</td>\n",
       "      <td>2500</td>\n",
       "      <td>...</td>\n",
       "      <td>N</td>\n",
       "      <td>S122</td>\n",
       "      <td>B</td>\n",
       "      <td>0.0</td>\n",
       "      <td>NaN</td>\n",
       "      <td>NaN</td>\n",
       "      <td>NaN</td>\n",
       "      <td>NaN</td>\n",
       "      <td>0</td>\n",
       "      <td>0</td>\n",
       "    </tr>\n",
       "  </tbody>\n",
       "</table>\n",
       "<p>10 rows × 22 columns</p>\n",
       "</div>"
      ],
      "text/plain": [
       "               'ID  Gender       DOB Lead_Creation_Date City_Code  \\\n",
       "0  APPC90493171225  Female  23/07/79           15/07/16    C10001   \n",
       "1  APPD40611263344    Male  07/12/86           04/07/16    C10003   \n",
       "2  APPE70289249423    Male  10/12/82           19/07/16    C10125   \n",
       "3  APPF80273865537    Male  30/01/89           09/07/16    C10477   \n",
       "4  APPG60994436641    Male  19/04/85           20/07/16    C10002   \n",
       "5  APPI90914237819  Female  23/12/88           01/07/16    C10402   \n",
       "6  APPK80327232033    Male  28/03/73           02/07/16    C10022   \n",
       "7  APPL20820172146  Female  12/11/90           03/07/16    C10003   \n",
       "8  APPM30977401211    Male  03/03/77           02/07/16    C10003   \n",
       "9  APPN60714112334  Female  13/12/90           02/07/16    C10014   \n",
       "\n",
       "  City_Category Employer_Code Employer_Category1 Employer_Category2  \\\n",
       "0             A    COM0044082                  A         Category_4   \n",
       "1             A    COM0000002                  C         Category_1   \n",
       "2             C    COM0005267                  C         Category_4   \n",
       "3             C    COM0004143                  A         Category_4   \n",
       "4             A    COM0001781                  A         Category_4   \n",
       "5             C    COM0007740                  A         Category_4   \n",
       "6             B    COM0030526                  B         Category_4   \n",
       "7             A    COM0016738                  A         Category_4   \n",
       "8             A    COM0010626                  A         Category_4   \n",
       "9             B    COM0042212                  A         Category_4   \n",
       "\n",
       "   Monthly_Income    ...    Contacted Source Source_Category Existing_EMI  \\\n",
       "0            2000    ...            N   S122               G          0.0   \n",
       "1            3500    ...            Y   S122               G          0.0   \n",
       "2            2250    ...            Y   S143               B          0.0   \n",
       "3            3500    ...            Y   S143               B          0.0   \n",
       "4           10000    ...            Y   S134               B       2500.0   \n",
       "5            7000    ...            N   S133               B          0.0   \n",
       "6            7500    ...            Y   S122               C          0.0   \n",
       "7            3000    ...            Y   S133               B          0.0   \n",
       "8            2500    ...            Y   S133               B          0.0   \n",
       "9            2500    ...            N   S122               B          0.0   \n",
       "\n",
       "  Loan_Amount  Loan_Period  Interest_Rate     EMI  Var1  Approved  \n",
       "0         NaN          NaN            NaN     NaN     0         0  \n",
       "1     20000.0          2.0          13.25   953.0    10         0  \n",
       "2     45000.0          4.0            NaN     NaN     0         0  \n",
       "3     92000.0          5.0            NaN     NaN     7         0  \n",
       "4     50000.0          2.0            NaN     NaN    10         0  \n",
       "5         NaN          NaN            NaN     NaN     0         0  \n",
       "6    130000.0          5.0          14.85  3082.0    10         0  \n",
       "7     30000.0          3.0          18.25  1088.0     0         0  \n",
       "8     66000.0          5.0          20.00  1749.0     7         0  \n",
       "9         NaN          NaN            NaN     NaN     0         0  \n",
       "\n",
       "[10 rows x 22 columns]"
      ]
     },
     "execution_count": 54,
     "metadata": {},
     "output_type": "execute_result"
    }
   ],
   "source": [
    "train.head(10)"
   ]
  },
  {
   "cell_type": "code",
   "execution_count": 13,
   "metadata": {},
   "outputs": [
    {
     "data": {
      "text/plain": [
       "(69713, 22)"
      ]
     },
     "execution_count": 13,
     "metadata": {},
     "output_type": "execute_result"
    }
   ],
   "source": [
    "train.shape"
   ]
  },
  {
   "cell_type": "code",
   "execution_count": 15,
   "metadata": {},
   "outputs": [
    {
     "data": {
      "text/plain": [
       "'ID                                     object\n",
       "Gender                                  object\n",
       "DOB                                     object\n",
       "Lead_Creation_Date                      object\n",
       "City_Code                               object\n",
       "City_Category                           object\n",
       "Employer_Code                           object\n",
       "Employer_Category1                      object\n",
       "Employer_Category2                     float64\n",
       "Monthly_Income                         float64\n",
       "Customer_Existing_Primary_Bank_Code     object\n",
       "Primary_Bank_Type                       object\n",
       "Contacted                               object\n",
       "Source                                  object\n",
       "Source_Category                         object\n",
       "Existing_EMI                           float64\n",
       "Loan_Amount                            float64\n",
       "Loan_Period                            float64\n",
       "Interest_Rate                          float64\n",
       "EMI                                    float64\n",
       "Var1                                     int64\n",
       "Approved                                 int64\n",
       "dtype: object"
      ]
     },
     "execution_count": 15,
     "metadata": {},
     "output_type": "execute_result"
    }
   ],
   "source": [
    "train.dtypes"
   ]
  },
  {
   "cell_type": "code",
   "execution_count": 21,
   "metadata": {},
   "outputs": [
    {
     "data": {
      "text/plain": [
       "A    33336\n",
       "B    18056\n",
       "C    14303\n",
       "Name: Employer_Category1, dtype: int64"
      ]
     },
     "execution_count": 21,
     "metadata": {},
     "output_type": "execute_result"
    }
   ],
   "source": [
    "train['Employer_Category1'].value_counts()\n"
   ]
  },
  {
   "cell_type": "code",
   "execution_count": 22,
   "metadata": {},
   "outputs": [
    {
     "data": {
      "text/plain": [
       "4.0    57582\n",
       "1.0     4258\n",
       "2.0     1955\n",
       "3.0     1620\n",
       "Name: Employer_Category2, dtype: int64"
      ]
     },
     "execution_count": 22,
     "metadata": {},
     "output_type": "execute_result"
    }
   ],
   "source": [
    "train['Employer_Category2'].value_counts()"
   ]
  },
  {
   "cell_type": "code",
   "execution_count": 23,
   "metadata": {},
   "outputs": [
    {
     "data": {
      "text/plain": [
       "0     23308\n",
       "10    13420\n",
       "2     13363\n",
       "7     11948\n",
       "4      7674\n",
       "Name: Var1, dtype: int64"
      ]
     },
     "execution_count": 23,
     "metadata": {},
     "output_type": "execute_result"
    }
   ],
   "source": [
    "train['Var1'].value_counts()"
   ]
  },
  {
   "cell_type": "code",
   "execution_count": 77,
   "metadata": {},
   "outputs": [
    {
     "data": {
      "text/plain": [
       "B001    14197\n",
       "B002    10880\n",
       "B003     9515\n",
       "B004     7070\n",
       "B005     1920\n",
       "B006     1662\n",
       "B007     1239\n",
       "B008      945\n",
       "B009      941\n",
       "B010      920\n",
       "B012      789\n",
       "B013      785\n",
       "B011      775\n",
       "B014      606\n",
       "B015      561\n",
       "B016      518\n",
       "B017      495\n",
       "B018      475\n",
       "B019      445\n",
       "B020      420\n",
       "B021      401\n",
       "B022      388\n",
       "B023      355\n",
       "B024      335\n",
       "B025      327\n",
       "B027      268\n",
       "B026      262\n",
       "B028      258\n",
       "B029      206\n",
       "B030      202\n",
       "B031      201\n",
       "B033      188\n",
       "B032      187\n",
       "B034      184\n",
       "B035      161\n",
       "B038      149\n",
       "B036      145\n",
       "B039      137\n",
       "B037      137\n",
       "B040      133\n",
       "B041       98\n",
       "B042       80\n",
       "B043       70\n",
       "B044       60\n",
       "B046       48\n",
       "B045       47\n",
       "B047       39\n",
       "B048       34\n",
       "B049       15\n",
       "B050       12\n",
       "B054        8\n",
       "B051        8\n",
       "B052        7\n",
       "B053        5\n",
       "B055        4\n",
       "B056        4\n",
       "B057        1\n",
       "Name: Customer_Existing_Primary_Bank_Code, dtype: int64"
      ]
     },
     "execution_count": 77,
     "metadata": {},
     "output_type": "execute_result"
    }
   ],
   "source": [
    "train['Customer_Existing_Primary_Bank_Code'].value_counts()"
   ]
  },
  {
   "cell_type": "code",
   "execution_count": 25,
   "metadata": {},
   "outputs": [
    {
     "data": {
      "text/plain": [
       "P    39619\n",
       "G    20703\n",
       "Name: Primary_Bank_Type, dtype: int64"
      ]
     },
     "execution_count": 25,
     "metadata": {},
     "output_type": "execute_result"
    }
   ],
   "source": [
    "train['Primary_Bank_Type'].value_counts()"
   ]
  },
  {
   "cell_type": "code",
   "execution_count": 30,
   "metadata": {},
   "outputs": [],
   "source": [
    "#converting employer category to bins\n",
    "train['Employer_Category2']=pd.cut(train['Employer_Category2'],bins=[0.0,1.0,2.0,3.0,4.0],labels=['Category_1','Category_2','Category_3','Category_4'])"
   ]
  },
  {
   "cell_type": "code",
   "execution_count": 32,
   "metadata": {},
   "outputs": [
    {
     "data": {
      "text/plain": [
       "Category_4    57582\n",
       "Category_1     4258\n",
       "Category_2     1955\n",
       "Category_3     1620\n",
       "Name: Employer_Category2, dtype: int64"
      ]
     },
     "execution_count": 32,
     "metadata": {},
     "output_type": "execute_result"
    }
   ],
   "source": [
    "train['Employer_Category2'].value_counts()"
   ]
  },
  {
   "cell_type": "code",
   "execution_count": null,
   "metadata": {},
   "outputs": [],
   "source": []
  },
  {
   "cell_type": "code",
   "execution_count": 50,
   "metadata": {},
   "outputs": [],
   "source": [
    "train['Monthly_Income']=train['Monthly_Income'].astype(int64)\n"
   ]
  },
  {
   "cell_type": "code",
   "execution_count": 51,
   "metadata": {},
   "outputs": [
    {
     "data": {
      "text/plain": [
       "'ID                                      object\n",
       "Gender                                   object\n",
       "DOB                                      object\n",
       "Lead_Creation_Date                       object\n",
       "City_Code                                object\n",
       "City_Category                            object\n",
       "Employer_Code                            object\n",
       "Employer_Category1                       object\n",
       "Employer_Category2                     category\n",
       "Monthly_Income                            int64\n",
       "Customer_Existing_Primary_Bank_Code      object\n",
       "Primary_Bank_Type                        object\n",
       "Contacted                                object\n",
       "Source                                   object\n",
       "Source_Category                          object\n",
       "Existing_EMI                            float64\n",
       "Loan_Amount                             float64\n",
       "Loan_Period                             float64\n",
       "Interest_Rate                           float64\n",
       "EMI                                     float64\n",
       "Var1                                      int64\n",
       "Approved                                  int64\n",
       "dtype: object"
      ]
     },
     "execution_count": 51,
     "metadata": {},
     "output_type": "execute_result"
    }
   ],
   "source": [
    "train.dtypes"
   ]
  },
  {
   "cell_type": "code",
   "execution_count": 52,
   "metadata": {},
   "outputs": [
    {
     "data": {
      "text/html": [
       "<div>\n",
       "<style>\n",
       "    .dataframe thead tr:only-child th {\n",
       "        text-align: right;\n",
       "    }\n",
       "\n",
       "    .dataframe thead th {\n",
       "        text-align: left;\n",
       "    }\n",
       "\n",
       "    .dataframe tbody tr th {\n",
       "        vertical-align: top;\n",
       "    }\n",
       "</style>\n",
       "<table border=\"1\" class=\"dataframe\">\n",
       "  <thead>\n",
       "    <tr style=\"text-align: right;\">\n",
       "      <th></th>\n",
       "      <th>Monthly_Income</th>\n",
       "      <th>Existing_EMI</th>\n",
       "      <th>Loan_Amount</th>\n",
       "      <th>Loan_Period</th>\n",
       "      <th>Interest_Rate</th>\n",
       "      <th>EMI</th>\n",
       "      <th>Var1</th>\n",
       "      <th>Approved</th>\n",
       "    </tr>\n",
       "  </thead>\n",
       "  <tbody>\n",
       "    <tr>\n",
       "      <th>count</th>\n",
       "      <td>6.971300e+04</td>\n",
       "      <td>69662.000000</td>\n",
       "      <td>42004.000000</td>\n",
       "      <td>42004.000000</td>\n",
       "      <td>22276.000000</td>\n",
       "      <td>22276.000000</td>\n",
       "      <td>69713.000000</td>\n",
       "      <td>69713.000000</td>\n",
       "    </tr>\n",
       "    <tr>\n",
       "      <th>mean</th>\n",
       "      <td>5.622250e+03</td>\n",
       "      <td>360.928751</td>\n",
       "      <td>39429.982859</td>\n",
       "      <td>3.890629</td>\n",
       "      <td>19.213570</td>\n",
       "      <td>1101.466242</td>\n",
       "      <td>3.948446</td>\n",
       "      <td>0.014631</td>\n",
       "    </tr>\n",
       "    <tr>\n",
       "      <th>std</th>\n",
       "      <td>1.747671e+05</td>\n",
       "      <td>2288.517927</td>\n",
       "      <td>30727.595990</td>\n",
       "      <td>1.167491</td>\n",
       "      <td>5.847136</td>\n",
       "      <td>752.661394</td>\n",
       "      <td>3.819214</td>\n",
       "      <td>0.120073</td>\n",
       "    </tr>\n",
       "    <tr>\n",
       "      <th>min</th>\n",
       "      <td>0.000000e+00</td>\n",
       "      <td>0.000000</td>\n",
       "      <td>5000.000000</td>\n",
       "      <td>1.000000</td>\n",
       "      <td>11.990000</td>\n",
       "      <td>118.000000</td>\n",
       "      <td>0.000000</td>\n",
       "      <td>0.000000</td>\n",
       "    </tr>\n",
       "    <tr>\n",
       "      <th>25%</th>\n",
       "      <td>1.650000e+03</td>\n",
       "      <td>0.000000</td>\n",
       "      <td>20000.000000</td>\n",
       "      <td>3.000000</td>\n",
       "      <td>15.250000</td>\n",
       "      <td>649.000000</td>\n",
       "      <td>0.000000</td>\n",
       "      <td>0.000000</td>\n",
       "    </tr>\n",
       "    <tr>\n",
       "      <th>50%</th>\n",
       "      <td>2.500000e+03</td>\n",
       "      <td>0.000000</td>\n",
       "      <td>30000.000000</td>\n",
       "      <td>4.000000</td>\n",
       "      <td>18.000000</td>\n",
       "      <td>941.000000</td>\n",
       "      <td>2.000000</td>\n",
       "      <td>0.000000</td>\n",
       "    </tr>\n",
       "    <tr>\n",
       "      <th>75%</th>\n",
       "      <td>4.000000e+03</td>\n",
       "      <td>350.000000</td>\n",
       "      <td>50000.000000</td>\n",
       "      <td>5.000000</td>\n",
       "      <td>20.000000</td>\n",
       "      <td>1295.000000</td>\n",
       "      <td>7.000000</td>\n",
       "      <td>0.000000</td>\n",
       "    </tr>\n",
       "    <tr>\n",
       "      <th>max</th>\n",
       "      <td>3.838384e+07</td>\n",
       "      <td>545436.500000</td>\n",
       "      <td>300000.000000</td>\n",
       "      <td>6.000000</td>\n",
       "      <td>37.000000</td>\n",
       "      <td>13556.000000</td>\n",
       "      <td>10.000000</td>\n",
       "      <td>1.000000</td>\n",
       "    </tr>\n",
       "  </tbody>\n",
       "</table>\n",
       "</div>"
      ],
      "text/plain": [
       "       Monthly_Income   Existing_EMI    Loan_Amount   Loan_Period  \\\n",
       "count    6.971300e+04   69662.000000   42004.000000  42004.000000   \n",
       "mean     5.622250e+03     360.928751   39429.982859      3.890629   \n",
       "std      1.747671e+05    2288.517927   30727.595990      1.167491   \n",
       "min      0.000000e+00       0.000000    5000.000000      1.000000   \n",
       "25%      1.650000e+03       0.000000   20000.000000      3.000000   \n",
       "50%      2.500000e+03       0.000000   30000.000000      4.000000   \n",
       "75%      4.000000e+03     350.000000   50000.000000      5.000000   \n",
       "max      3.838384e+07  545436.500000  300000.000000      6.000000   \n",
       "\n",
       "       Interest_Rate           EMI          Var1      Approved  \n",
       "count   22276.000000  22276.000000  69713.000000  69713.000000  \n",
       "mean       19.213570   1101.466242      3.948446      0.014631  \n",
       "std         5.847136    752.661394      3.819214      0.120073  \n",
       "min        11.990000    118.000000      0.000000      0.000000  \n",
       "25%        15.250000    649.000000      0.000000      0.000000  \n",
       "50%        18.000000    941.000000      2.000000      0.000000  \n",
       "75%        20.000000   1295.000000      7.000000      0.000000  \n",
       "max        37.000000  13556.000000     10.000000      1.000000  "
      ]
     },
     "execution_count": 52,
     "metadata": {},
     "output_type": "execute_result"
    }
   ],
   "source": [
    "#checking the population distribution of Continous variables\n",
    "\n",
    "train.describe()"
   ]
  },
  {
   "cell_type": "code",
   "execution_count": 36,
   "metadata": {},
   "outputs": [
    {
     "name": "stdout",
     "output_type": "stream",
     "text": [
      "Populating the interactive namespace from numpy and matplotlib\n"
     ]
    }
   ],
   "source": [
    "%pylab inline"
   ]
  },
  {
   "cell_type": "code",
   "execution_count": 89,
   "metadata": {},
   "outputs": [
    {
     "data": {
      "text/plain": [
       "<matplotlib.axes._subplots.AxesSubplot at 0x1081c710>"
      ]
     },
     "execution_count": 89,
     "metadata": {},
     "output_type": "execute_result"
    },
    {
     "data": {
      "image/png": "[encoded data removed]",
      "text/plain": [
       "<matplotlib.figure.Figure at 0x10861438>"
      ]
     },
     "metadata": {},
     "output_type": "display_data"
    }
   ],
   "source": [
    "#distribution analysis\n",
    "train['Existing_EMI'].hist(bins=10)"
   ]
  },
  {
   "cell_type": "code",
   "execution_count": 90,
   "metadata": {},
   "outputs": [
    {
     "data": {
      "text/plain": [
       "<matplotlib.axes._subplots.AxesSubplot at 0x108914a8>"
      ]
     },
     "execution_count": 90,
     "metadata": {},
     "output_type": "execute_result"
    },
    {
     "data": {
      "image/png": "[encoded data removed]",
      "text/plain": [
       "<matplotlib.figure.Figure at 0x108e3e48>"
      ]
     },
     "metadata": {},
     "output_type": "display_data"
    }
   ],
   "source": [
    "train.boxplot('Existing_EMI')"
   ]
  },
  {
   "cell_type": "code",
   "execution_count": 62,
   "metadata": {},
   "outputs": [],
   "source": [
    "#categorical variable analysis\n",
    "#gender relationship in loan \n",
    "#temp=train.pivot_table(values='Gender',index=['Approved'],aggfunc=lambda x:x.map({'Y':1,'N':0}).count())\n",
    "#print (temp)"
   ]
  },
  {
   "cell_type": "code",
   "execution_count": 72,
   "metadata": {},
   "outputs": [],
   "source": [
    "temp1=pd.crosstab([train['Gender'],train['Contacted']],train['Approved'])"
   ]
  },
  {
   "cell_type": "code",
   "execution_count": 73,
   "metadata": {},
   "outputs": [
    {
     "data": {
      "text/html": [
       "<div>\n",
       "<style>\n",
       "    .dataframe thead tr:only-child th {\n",
       "        text-align: right;\n",
       "    }\n",
       "\n",
       "    .dataframe thead th {\n",
       "        text-align: left;\n",
       "    }\n",
       "\n",
       "    .dataframe tbody tr th {\n",
       "        vertical-align: top;\n",
       "    }\n",
       "</style>\n",
       "<table border=\"1\" class=\"dataframe\">\n",
       "  <thead>\n",
       "    <tr style=\"text-align: right;\">\n",
       "      <th></th>\n",
       "      <th>Approved</th>\n",
       "      <th>0</th>\n",
       "      <th>1</th>\n",
       "    </tr>\n",
       "    <tr>\n",
       "      <th>Gender</th>\n",
       "      <th>Contacted</th>\n",
       "      <th></th>\n",
       "      <th></th>\n",
       "    </tr>\n",
       "  </thead>\n",
       "  <tbody>\n",
       "    <tr>\n",
       "      <th rowspan=\"2\" valign=\"top\">Female</th>\n",
       "      <th>N</th>\n",
       "      <td>24265</td>\n",
       "      <td>173</td>\n",
       "    </tr>\n",
       "    <tr>\n",
       "      <th>Y</th>\n",
       "      <td>5251</td>\n",
       "      <td>75</td>\n",
       "    </tr>\n",
       "    <tr>\n",
       "      <th>Male</th>\n",
       "      <th>Y</th>\n",
       "      <td>39177</td>\n",
       "      <td>772</td>\n",
       "    </tr>\n",
       "  </tbody>\n",
       "</table>\n",
       "</div>"
      ],
      "text/plain": [
       "Approved              0    1\n",
       "Gender Contacted            \n",
       "Female N          24265  173\n",
       "       Y           5251   75\n",
       "Male   Y          39177  772"
      ]
     },
     "execution_count": 73,
     "metadata": {},
     "output_type": "execute_result"
    }
   ],
   "source": [
    "temp1"
   ]
  },
  {
   "cell_type": "code",
   "execution_count": 74,
   "metadata": {},
   "outputs": [
    {
     "data": {
      "text/plain": [
       "<matplotlib.axes._subplots.AxesSubplot at 0xab1da58>"
      ]
     },
     "execution_count": 74,
     "metadata": {},
     "output_type": "execute_result"
    },
    {
     "data": {
      "image/png": "[encoded data removed]",
      "text/plain": [
       "<matplotlib.figure.Figure at 0xacef588>"
      ]
     },
     "metadata": {},
     "output_type": "display_data"
    }
   ],
   "source": [
    "temp1.plot(kind='bar',stacked=True)"
   ]
  },
  {
   "cell_type": "code",
   "execution_count": 76,
   "metadata": {},
   "outputs": [
    {
     "data": {
      "text/plain": [
       "'ID                                        0\n",
       "Gender                                     0\n",
       "DOB                                       15\n",
       "Lead_Creation_Date                         0\n",
       "City_Code                                814\n",
       "City_Category                            814\n",
       "Employer_Code                           4018\n",
       "Employer_Category1                      4018\n",
       "Employer_Category2                      4298\n",
       "Monthly_Income                             0\n",
       "Customer_Existing_Primary_Bank_Code     9391\n",
       "Primary_Bank_Type                       9391\n",
       "Contacted                                  0\n",
       "Source                                     0\n",
       "Source_Category                            0\n",
       "Existing_EMI                              51\n",
       "Loan_Amount                            27709\n",
       "Loan_Period                            27709\n",
       "Interest_Rate                          47437\n",
       "EMI                                    47437\n",
       "Var1                                       0\n",
       "Approved                                   0\n",
       "dtype: int64"
      ]
     },
     "execution_count": 76,
     "metadata": {},
     "output_type": "execute_result"
    }
   ],
   "source": [
    "#checking missing values in the data set\n",
    "train.apply(lambda x: sum(x.isnull()),axis=0)"
   ]
  },
  {
   "cell_type": "code",
   "execution_count": 78,
   "metadata": {},
   "outputs": [
    {
     "data": {
      "text/plain": [
       "<matplotlib.axes._subplots.AxesSubplot at 0xad604e0>"
      ]
     },
     "execution_count": 78,
     "metadata": {},
     "output_type": "execute_result"
    },
    {
     "data": {
      "image/png": "[encoded data removed]",
      "text/plain": [
       "<matplotlib.figure.Figure at 0xad69b70>"
      ]
     },
     "metadata": {},
     "output_type": "display_data"
    }
   ],
   "source": [
    "#univariate analysis\n",
    "\n",
    "train['Existing_EMI'].hist(bins=50)"
   ]
  },
  {
   "cell_type": "code",
   "execution_count": null,
   "metadata": {
    "collapsed": true
   },
   "outputs": [],
   "source": []
  }
 ],
 "metadata": {
  "kernelspec": {
   "display_name": "Python 3",
   "language": "python",
   "name": "python3"
  },
  "language_info": {
   "codemirror_mode": {
    "name": "ipython",
    "version": 3
   },
   "file_extension": ".py",
   "mimetype": "text/x-python",
   "name": "python",
   "nbconvert_exporter": "python",
   "pygments_lexer": "ipython3",
   "version": "3.6.3"
  }
 },
 "nbformat": 4,
 "nbformat_minor": 2
}
